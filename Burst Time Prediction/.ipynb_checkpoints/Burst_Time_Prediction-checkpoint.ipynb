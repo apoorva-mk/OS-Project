{
 "cells": [
  {
   "cell_type": "code",
   "execution_count": 71,
   "metadata": {
    "collapsed": true
   },
   "outputs": [],
   "source": [
    "import sklearn \n",
    "import numpy as np\n",
    "import pandas as pd\n",
    "from sklearn.model_selection import train_test_split\n",
    "from sklearn.neighbors import KNeighborsClassifier\n",
    "from sklearn import preprocessing\n",
    "from sklearn.metrics import accuracy_score\n",
    "from sklearn import linear_model"
   ]
  },
  {
   "cell_type": "code",
   "execution_count": 25,
   "metadata": {
    "collapsed": true
   },
   "outputs": [],
   "source": [
    "#load dataset\n",
    "process_dataset = pd.read_csv('process_data.csv')"
   ]
  },
  {
   "cell_type": "code",
   "execution_count": 26,
   "metadata": {
    "collapsed": true
   },
   "outputs": [],
   "source": [
    "#selecting columns from dataset\n",
    "\n",
    "#Extracting run time (target values)\n",
    "run_time = process_dataset[['RunTime']]\n",
    "\n",
    "#selecting of process feautures without historical information\n",
    "features = process_dataset[['SubmitTime',\n",
    "                            'UsedMemory',\n",
    "                            'ReqNProcs',\n",
    "                            'ReqTime',\n",
    "                            'ReqMemory',\n",
    "                            'UserID',\n",
    "                            'GroupID',\n",
    "                            'QueueID',\n",
    "                            'OrigSiteID']]"
   ]
  },
  {
   "cell_type": "code",
   "execution_count": 30,
   "metadata": {},
   "outputs": [
    {
     "data": {
      "text/html": [
       "<div>\n",
       "<style>\n",
       "    .dataframe thead tr:only-child th {\n",
       "        text-align: right;\n",
       "    }\n",
       "\n",
       "    .dataframe thead th {\n",
       "        text-align: left;\n",
       "    }\n",
       "\n",
       "    .dataframe tbody tr th {\n",
       "        vertical-align: top;\n",
       "    }\n",
       "</style>\n",
       "<table border=\"1\" class=\"dataframe\">\n",
       "  <thead>\n",
       "    <tr style=\"text-align: right;\">\n",
       "      <th></th>\n",
       "      <th>SubmitTime</th>\n",
       "      <th>UsedMemory</th>\n",
       "      <th>ReqNProcs</th>\n",
       "      <th>ReqTime</th>\n",
       "      <th>ReqMemory</th>\n",
       "      <th>UserID</th>\n",
       "      <th>GroupID</th>\n",
       "      <th>QueueID</th>\n",
       "      <th>OrigSiteID</th>\n",
       "    </tr>\n",
       "  </thead>\n",
       "  <tbody>\n",
       "    <tr>\n",
       "      <th>0</th>\n",
       "      <td>1</td>\n",
       "      <td>1190</td>\n",
       "      <td>0</td>\n",
       "      <td>30</td>\n",
       "      <td>0</td>\n",
       "      <td>27</td>\n",
       "      <td>1</td>\n",
       "      <td>0</td>\n",
       "      <td>0</td>\n",
       "    </tr>\n",
       "    <tr>\n",
       "      <th>1</th>\n",
       "      <td>5</td>\n",
       "      <td>2860</td>\n",
       "      <td>0</td>\n",
       "      <td>2</td>\n",
       "      <td>0</td>\n",
       "      <td>21</td>\n",
       "      <td>1</td>\n",
       "      <td>5</td>\n",
       "      <td>0</td>\n",
       "    </tr>\n",
       "    <tr>\n",
       "      <th>2</th>\n",
       "      <td>7</td>\n",
       "      <td>1</td>\n",
       "      <td>0</td>\n",
       "      <td>30</td>\n",
       "      <td>0</td>\n",
       "      <td>38</td>\n",
       "      <td>6</td>\n",
       "      <td>7</td>\n",
       "      <td>0</td>\n",
       "    </tr>\n",
       "    <tr>\n",
       "      <th>3</th>\n",
       "      <td>8</td>\n",
       "      <td>1</td>\n",
       "      <td>0</td>\n",
       "      <td>30</td>\n",
       "      <td>0</td>\n",
       "      <td>38</td>\n",
       "      <td>6</td>\n",
       "      <td>7</td>\n",
       "      <td>0</td>\n",
       "    </tr>\n",
       "    <tr>\n",
       "      <th>4</th>\n",
       "      <td>9</td>\n",
       "      <td>1</td>\n",
       "      <td>0</td>\n",
       "      <td>30</td>\n",
       "      <td>0</td>\n",
       "      <td>38</td>\n",
       "      <td>6</td>\n",
       "      <td>7</td>\n",
       "      <td>0</td>\n",
       "    </tr>\n",
       "  </tbody>\n",
       "</table>\n",
       "</div>"
      ],
      "text/plain": [
       "   SubmitTime  UsedMemory  ReqNProcs  ReqTime  ReqMemory  UserID  GroupID  \\\n",
       "0           1        1190          0       30          0      27        1   \n",
       "1           5        2860          0        2          0      21        1   \n",
       "2           7           1          0       30          0      38        6   \n",
       "3           8           1          0       30          0      38        6   \n",
       "4           9           1          0       30          0      38        6   \n",
       "\n",
       "   QueueID  OrigSiteID  \n",
       "0        0           0  \n",
       "1        5           0  \n",
       "2        7           0  \n",
       "3        7           0  \n",
       "4        7           0  "
      ]
     },
     "execution_count": 30,
     "metadata": {},
     "output_type": "execute_result"
    }
   ],
   "source": [
    "#Preprocessing : Performing encoding on non floating point columns\n",
    "\n",
    "label_encoder = preprocessing.LabelEncoder()\n",
    "le_features = features.apply(le.fit_transform)\n",
    "le_features.head()\n",
    "\n",
    "# enc = preprocessing.OneHotEncoder()\n",
    "# enc.fit(le_features)\n",
    "# onehotlabels = enc.transform(le_features).toarray()\n",
    "# onehotlabels.shape"
   ]
  },
  {
   "cell_type": "code",
   "execution_count": 86,
   "metadata": {
    "collapsed": true
   },
   "outputs": [],
   "source": [
    "#Preparing training and test dataset to be fed into model\n",
    "\n",
    "X_train, X_test, y_train, y_test = train_test_split( pp_features, run_time, test_size=0.20, random_state=42)"
   ]
  },
  {
   "cell_type": "code",
   "execution_count": 100,
   "metadata": {},
   "outputs": [
    {
     "name": "stderr",
     "output_type": "stream",
     "text": [
      "/home/apoorva/anaconda3/lib/python3.6/site-packages/ipykernel_launcher.py:5: DataConversionWarning: A column-vector y was passed when a 1d array was expected. Please change the shape of y to (n_samples, ), for example using ravel().\n",
      "  \"\"\"\n"
     ]
    },
    {
     "data": {
      "text/plain": [
       "KNeighborsClassifier(algorithm='auto', leaf_size=30, metric='minkowski',\n",
       "           metric_params=None, n_jobs=None, n_neighbors=13, p=2,\n",
       "           weights='uniform')"
      ]
     },
     "execution_count": 100,
     "metadata": {},
     "output_type": "execute_result"
    }
   ],
   "source": [
    "#K Nearest Neighbours implementation\n",
    "\n",
    "#Choosing k as 3 and training\n",
    "knn = KNeighborsClassifier(n_neighbors= 13)\n",
    "knn.fit(X_train, y_train)"
   ]
  },
  {
   "cell_type": "code",
   "execution_count": 101,
   "metadata": {
    "collapsed": true
   },
   "outputs": [],
   "source": [
    "#predicting values in y_test\n",
    "\n",
    "pred = knn.predict(X_test)"
   ]
  },
  {
   "cell_type": "code",
   "execution_count": 102,
   "metadata": {
    "scrolled": true
   },
   "outputs": [
    {
     "name": "stdout",
     "output_type": "stream",
     "text": [
      "Mean Percentage Error: 105.674574793\n"
     ]
    }
   ],
   "source": [
    "#checking accuracy and MAPE\n",
    "\n",
    "list_y_test = list(y_test.values.flatten())\n",
    "mape_sum = 0.0\n",
    "accuracy = 0.0\n",
    "\n",
    "#print (pred [2])\n",
    "\n",
    "for i in range( len(list_y_test) ):\n",
    "    if (list_y_test[i] != 0):\n",
    "        mape_sum = mape_sum + (abs( pred[i] - list_y_test[i] )/list_y_test[i])\n",
    "    \n",
    "mape = mape_sum / len(list_y_test)\n",
    "print(\"Mean Percentage Error:\", mape * 100 )"
   ]
  },
  {
   "cell_type": "code",
   "execution_count": null,
   "metadata": {
    "collapsed": true
   },
   "outputs": [],
   "source": []
  },
  {
   "cell_type": "code",
   "execution_count": null,
   "metadata": {
    "collapsed": true
   },
   "outputs": [],
   "source": []
  },
  {
   "cell_type": "code",
   "execution_count": null,
   "metadata": {
    "collapsed": true
   },
   "outputs": [],
   "source": []
  }
 ],
 "metadata": {
  "kernelspec": {
   "display_name": "Python 3",
   "language": "python",
   "name": "python3"
  },
  "language_info": {
   "codemirror_mode": {
    "name": "ipython",
    "version": 3
   },
   "file_extension": ".py",
   "mimetype": "text/x-python",
   "name": "python",
   "nbconvert_exporter": "python",
   "pygments_lexer": "ipython3",
   "version": "3.6.7"
  }
 },
 "nbformat": 4,
 "nbformat_minor": 2
}
